{
 "cells": [
  {
   "cell_type": "markdown",
   "metadata": {},
   "source": [
    "![hackio](https://github.com/Hack-io-Data/Imagenes/blob/main/01-LogosHackio/logo_celeste@4x.png?raw=true)\n"
   ]
  },
  {
   "cell_type": "markdown",
   "metadata": {},
   "source": [
    "# Laboratorio A/B Testing No Paramétricos\n",
    "\n",
    "**Aerolínea:** \n",
    "Alas del Mundo\n",
    "\n",
    "**Descripción de la Aerolínea**\n",
    "\n",
    "Alas del Mundo es una aerolínea internacional que opera una amplia red de rutas a nivel mundial. La compañía se enorgullece de ofrecer vuelos cómodos y asequibles a una variedad de destinos, atrayendo a una diversa gama de clientes.\n",
    "\n",
    "**Objetivo del Análisis**\n",
    "\n",
    "El objetivo de este ejercicio es determinar si existe una diferencia significativa en el número de vuelos reservados entre pasajeros con diferentes niveles educativos y si existe una diferencia significativa entre el género de sus clientes y su salario. La aerolínea desea entender mejor a sus clientes para poder personalizar sus campañas de marketing y mejorar sus estrategias de ventas.\n",
    "\n",
    "**Set de datos**\n",
    "\n",
    "El conjunto de datos *alas_del_mundo.csv* contiene información sobre clientes de la aerolínea Alas del Mundo. A continuación, tenemos una descripción de lo que nos podemos encontrar en el conjunto de datos:\n",
    "\n",
    "- **Loyalty Number**: Número de registro de cada uno de los clientes.\n",
    "\n",
    "- **Province**: Provincia de residencia del cliente.\n",
    "\n",
    "- **City**: Ciudad de residencia del cliente.\n",
    "\n",
    "- **Gender**: Género con el que se identifica el cliente.\n",
    "\n",
    "- **Education**: Nivel educativo del cliente.\n",
    "\n",
    "- **Salary**: Salario anual del cliente.\n",
    "\n",
    "- **Loyalty Card**: Nivel que tiene el cliente dentro del programa de fidelización de la aerolínea.\n",
    "\n",
    "- **CLV**: Valor total del cliente para la aerolínea a lo largo de toda su relación.\n",
    "\n",
    "- **Enrollment Type**: Forma de registro del cliente a la aerolínea.\n",
    "\n",
    "- **Enrollment Year**: Año de inscripción.\n",
    "\n",
    "- **Enrollment Month**: Mes de inscripción. \n",
    "\n",
    "- **Year**: Año en el que se realizan los vuelos.\n",
    "\n",
    "- **Month**: Mes en el que se realizan los vuelos.\n",
    "\n",
    "- **Flights Booked**: Vuelos reservados por el cliente en un mes y año concretos.\n",
    "\n",
    "- **Distance**: Distancia de vuelo del cliente en un mes y año concreto\n",
    "\n",
    "- **Points Accumulated**: Puntos acumulados por el cliente en un mes y año concretos.\n",
    "\n",
    "## Ejercicio 1:\n",
    "\n",
    "Antes de realizar el experimento A/B y formular hipótesis, es fundamental comprender a fondo el conjunto de datos y sus características. Para lograr esto, debes llevar a cabo un análisis exploratorio detallado de los datos (EDA), con el fin de familiarizarte con ellos y entender la información disponible.\n",
    "\n"
   ]
  },
  {
   "cell_type": "code",
   "execution_count": 1,
   "metadata": {},
   "outputs": [],
   "source": [
    "# tu codigo aqui"
   ]
  },
  {
   "cell_type": "markdown",
   "metadata": {},
   "source": [
    "## Ejercicio 2:\n",
    "Determina si existe una diferencia significativa en el número de vuelos reservados entre los diferentes niveles educativos.\n",
    "\n",
    " Pasos a seguir:\n",
    "\n",
    "   - Definición de la hipótesis.\n",
    "   - Prueba de hipótesis\n",
    "   - Análisis de resultados\n",
    "   - Conclusiones\n",
    "   \n"
   ]
  },
  {
   "cell_type": "code",
   "execution_count": null,
   "metadata": {},
   "outputs": [],
   "source": []
  },
  {
   "cell_type": "markdown",
   "metadata": {},
   "source": [
    "## Ejercicio 3:\n",
    "Determina si existe una diferencia significativa en el salario de los clientes en función del género de los mismos.\n",
    "\n",
    "Pasos a seguir:\n",
    "   - Definición de la hipótesis.\n",
    "   - Prueba de hipótesis\n",
    "   - Análisis de resultados\n",
    "   - Conclusiones"
   ]
  },
  {
   "cell_type": "code",
   "execution_count": null,
   "metadata": {},
   "outputs": [],
   "source": []
  }
 ],
 "metadata": {
  "kernelspec": {
   "display_name": "base",
   "language": "python",
   "name": "python3"
  },
  "language_info": {
   "codemirror_mode": {
    "name": "ipython",
    "version": 3
   },
   "file_extension": ".py",
   "mimetype": "text/x-python",
   "name": "python",
   "nbconvert_exporter": "python",
   "pygments_lexer": "ipython3",
   "version": "3.12.1"
  }
 },
 "nbformat": 4,
 "nbformat_minor": 2
}
